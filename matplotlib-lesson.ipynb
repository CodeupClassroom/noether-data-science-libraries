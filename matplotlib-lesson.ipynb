{
 "cells": [
  {
   "cell_type": "markdown",
   "id": "5ef61474",
   "metadata": {},
   "source": [
    "# Matplotlib lesson notebook"
   ]
  },
  {
   "cell_type": "code",
   "execution_count": 3,
   "id": "9d1a6b39",
   "metadata": {},
   "outputs": [],
   "source": [
    "import numpy as np\n",
    "import matplotlib.pyplot as plt\n",
    "\n",
    "%matplotlib inline"
   ]
  },
  {
   "cell_type": "markdown",
   "id": "4ba8fa75",
   "metadata": {},
   "source": [
    "## Line charts\n",
    "\n",
    "Limits - plt.xlim, plt.ylim  \n",
    "Color - c argument  \n",
    "Alpha - transparency  \n",
    "Multiple plots  "
   ]
  },
  {
   "cell_type": "code",
   "execution_count": null,
   "id": "d0ffeff1",
   "metadata": {},
   "outputs": [],
   "source": []
  },
  {
   "cell_type": "markdown",
   "id": "f042b95e",
   "metadata": {},
   "source": [
    "## Scatter charts\n",
    "\n",
    "Size - s argument"
   ]
  },
  {
   "cell_type": "code",
   "execution_count": null,
   "id": "7ef8200d",
   "metadata": {},
   "outputs": [],
   "source": []
  },
  {
   "cell_type": "markdown",
   "id": "d1915871",
   "metadata": {},
   "source": [
    "## Labels, Titles, and Axes\n",
    "\n",
    "plt.title  \n",
    "plt.xlabel  \n",
    "plt.ylabel  \n",
    "\n",
    "Write LaTeX symbols by wrapping text with dollar signs ($)"
   ]
  },
  {
   "cell_type": "code",
   "execution_count": null,
   "id": "d13dd76d",
   "metadata": {},
   "outputs": [],
   "source": []
  },
  {
   "cell_type": "markdown",
   "id": "39d9b5ec",
   "metadata": {},
   "source": [
    "## Custom Ticks\n",
    "\n",
    "plt.xticks  \n",
    "plt.yticks  "
   ]
  },
  {
   "cell_type": "code",
   "execution_count": null,
   "id": "978d3d39",
   "metadata": {},
   "outputs": [],
   "source": []
  },
  {
   "cell_type": "markdown",
   "id": "1ad249d7",
   "metadata": {},
   "source": [
    "## Custom Line Types\n",
    "\n",
    "Line style - ls argument (accepts \":\" and \"- -\")"
   ]
  },
  {
   "cell_type": "code",
   "execution_count": null,
   "id": "7f91aa2b",
   "metadata": {},
   "outputs": [],
   "source": []
  },
  {
   "cell_type": "markdown",
   "id": "01263622",
   "metadata": {},
   "source": [
    "## Rotating text and annotations\n",
    "\n",
    "Rotation - rotation argument"
   ]
  },
  {
   "cell_type": "code",
   "execution_count": null,
   "id": "c42f17bf",
   "metadata": {},
   "outputs": [],
   "source": []
  },
  {
   "cell_type": "markdown",
   "id": "1a68a34e",
   "metadata": {},
   "source": [
    "## Adding text\n",
    "\n",
    "plt.text - x and y coordinates, text, fontsize, color\n",
    "\n",
    "plt.annotate - text, pointer coordinates, text coordinates, arrow properties"
   ]
  },
  {
   "cell_type": "code",
   "execution_count": null,
   "id": "eab5a611",
   "metadata": {},
   "outputs": [],
   "source": []
  },
  {
   "cell_type": "markdown",
   "id": "7c3e45e7",
   "metadata": {},
   "source": [
    "## Figure size and legends\n",
    "\n",
    "plt.figure - figsize argument to determine size of plot  \n",
    "plt.legend - loc argument for location"
   ]
  },
  {
   "cell_type": "code",
   "execution_count": null,
   "id": "a743f9e8",
   "metadata": {},
   "outputs": [],
   "source": []
  },
  {
   "cell_type": "markdown",
   "id": "eaf11350",
   "metadata": {},
   "source": [
    "## Saving figures\n",
    "\n",
    "plt.savefig - input the filename, default .png filetype"
   ]
  },
  {
   "cell_type": "code",
   "execution_count": null,
   "id": "8ad7bdff",
   "metadata": {},
   "outputs": [],
   "source": []
  },
  {
   "cell_type": "markdown",
   "id": "6981d085",
   "metadata": {},
   "source": [
    "## Subplots\n",
    "\n",
    "plt.subplot - number of rows, number of columns, selected figure  \n",
    "plt.subplot - shorthand notation  \n",
    "plt.suptitle - title for collection of subplots"
   ]
  },
  {
   "cell_type": "code",
   "execution_count": null,
   "id": "07937532",
   "metadata": {},
   "outputs": [],
   "source": []
  },
  {
   "cell_type": "markdown",
   "id": "7199ce4c",
   "metadata": {},
   "source": [
    "## Histograms\n",
    "\n",
    "plt.hist - values, bins argument align property"
   ]
  },
  {
   "cell_type": "code",
   "execution_count": null,
   "id": "026a7a01",
   "metadata": {},
   "outputs": [],
   "source": []
  }
 ],
 "metadata": {
  "kernelspec": {
   "display_name": "Python 3 (ipykernel)",
   "language": "python",
   "name": "python3"
  },
  "language_info": {
   "codemirror_mode": {
    "name": "ipython",
    "version": 3
   },
   "file_extension": ".py",
   "mimetype": "text/x-python",
   "name": "python",
   "nbconvert_exporter": "python",
   "pygments_lexer": "ipython3",
   "version": "3.9.12"
  }
 },
 "nbformat": 4,
 "nbformat_minor": 5
}
