{
 "cells": [
  {
   "cell_type": "code",
   "execution_count": 1,
   "id": "94a9649c",
   "metadata": {},
   "outputs": [],
   "source": [
    "import numpy as np\n",
    "# Life w/o numpy to life with numpy"
   ]
  },
  {
   "cell_type": "markdown",
   "id": "4b3f8c10",
   "metadata": {},
   "source": [
    "## Setup 1\n",
    "a = [1, 2, 3, 4, 5, 6, 7, 8, 9, 10]"
   ]
  },
  {
   "cell_type": "markdown",
   "id": "3020e975",
   "metadata": {},
   "source": [
    "### Use python's built in functionality/operators to determine the following:\n",
    "\n",
    "#### 1 - Make a variable called sum_of_a to hold the sum of all the numbers in above list\n",
    "\n",
    "#### 2 - Make a variable named min_of_a to hold the minimum of all the numbers in the above list\n",
    "\n",
    "#### 3 - Make a variable named max_of_a to hold the max number of all the numbers in the above list\n",
    "\n",
    "####  4 - Make a variable named mean_of_a to hold the average of all the numbers in the above list\n",
    "\n",
    "####  5 - Make a variable named product_of_a to hold the product of multiplying all the numbers in the above list together\n",
    "\n",
    "####  6 - Make a variable named squares_of_a. It should hold each number in a squared like [1, 4, 9, 16, 25...]\n",
    "\n",
    "####  7 - Make a variable named odds_in_a. It should hold only the odd numbers\n",
    "\n",
    "####  8 - Make a variable named evens_in_a. It should hold only the evens.\n"
   ]
  },
  {
   "cell_type": "code",
   "execution_count": 2,
   "id": "a0053c0b",
   "metadata": {},
   "outputs": [
    {
     "ename": "NameError",
     "evalue": "name 'a' is not defined",
     "output_type": "error",
     "traceback": [
      "\u001b[0;31m---------------------------------------------------------------------------\u001b[0m",
      "\u001b[0;31mNameError\u001b[0m                                 Traceback (most recent call last)",
      "Input \u001b[0;32mIn [2]\u001b[0m, in \u001b[0;36m<cell line: 1>\u001b[0;34m()\u001b[0m\n\u001b[0;32m----> 1\u001b[0m sum_of_a \u001b[38;5;241m=\u001b[39m \u001b[38;5;28msum\u001b[39m(\u001b[43ma\u001b[49m)\n\u001b[1;32m      2\u001b[0m sum_of_a\n",
      "\u001b[0;31mNameError\u001b[0m: name 'a' is not defined"
     ]
    }
   ],
   "source": [
    "sum_of_a = sum(a)\n",
    "sum_of_a"
   ]
  },
  {
   "cell_type": "code",
   "execution_count": null,
   "id": "f208d02b",
   "metadata": {},
   "outputs": [],
   "source": []
  },
  {
   "cell_type": "code",
   "execution_count": null,
   "id": "a67ca169",
   "metadata": {},
   "outputs": [],
   "source": []
  },
  {
   "cell_type": "code",
   "execution_count": null,
   "id": "643e0780",
   "metadata": {},
   "outputs": [],
   "source": []
  },
  {
   "cell_type": "code",
   "execution_count": null,
   "id": "24bf0f2e",
   "metadata": {},
   "outputs": [],
   "source": []
  },
  {
   "cell_type": "markdown",
   "id": "360a663d",
   "metadata": {},
   "source": [
    "<hr style=\"border:2px solid black\">"
   ]
  },
  {
   "cell_type": "markdown",
   "id": "3b321810",
   "metadata": {},
   "source": [
    "## What about life in two dimensions? A list of lists is matrix, a table, a spreadsheet, a chessboard...\n",
    "## Setup 2: \n",
    "Consider what it would take to find the sum, min, max, average, sum, product, and list of squares for this list of two lists.\n",
    "<br>\n",
    "\n",
    "b = [\n",
    "    [3, 4, 5],\n",
    "    [6, 7, 8]\n",
    "]"
   ]
  },
  {
   "cell_type": "markdown",
   "id": "7c0a87f0",
   "metadata": {},
   "source": [
    "#### 9 - refactor the following to use numpy. Use sum_of_b as the variable. **Hint, you'll first need to make sure that the \"b\" variable is a numpy array**\n",
    "sum_of_b = 0\n",
    "for row in b:\n",
    "    sum_of_b += sum(row)\n",
    "\n",
    "#### 10- refactor the following to use numpy. \n",
    "min_of_b = min(b[0]) if min(b[0]) <= min(b[1]) else min(b[1])  \n",
    "\n",
    "#### 11- refactor the following maximum calculation to find the answer with numpy.\n",
    "max_of_b = max(b[0]) if max(b[0]) >= max(b[1]) else max(b[1])\n",
    "\n",
    "\n",
    "#### 12 - refactor the following using numpy to find the mean of b\n",
    "mean_of_b = (sum(b[0]) + sum(b[1])) / (len(b[0]) + len(b[1]))\n",
    "\n",
    "#### 13 - refactor the following to use numpy for calculating the product of all numbers multiplied together.\n",
    "product_of_b = 1\n",
    "for row in b:\n",
    "    for number in row:\n",
    "        product_of_b *= number\n",
    "\n",
    "#### 14 - refactor the following to use numpy to find the list of squares \n",
    "squares_of_b = []\n",
    "for row in b:\n",
    "    for number in row:\n",
    "        squares_of_b.append(number**2)\n",
    "\n",
    "\n",
    "#### 15 - refactor using numpy to determine the odds_in_b\n",
    "odds_in_b = []\n",
    "for row in b:\n",
    "    for number in row:\n",
    "        if(number % 2 != 0):\n",
    "            odds_in_b.append(number)\n",
    "\n",
    "\n",
    "#### 16 - refactor the following to use numpy to filter only the even numbers\n",
    "evens_in_b = []\n",
    "for row in b:\n",
    "    for number in row:\n",
    "        if(number % 2 == 0):\n",
    "            evens_in_b.append(number)\n",
    "\n",
    "#### 17 - print out the shape of the array b.\n",
    "\n",
    "#### 18 - transpose the array b.\n",
    "\n",
    "#### 19 - reshape the array b to be a single list of 6 numbers. (1 x 6)\n",
    "\n",
    "#### 1 - reshape the array b to be a list of 6 lists, each containing only 1 number (6 x 1)\n",
    "\n",
    "\n",
    "\n"
   ]
  },
  {
   "cell_type": "markdown",
   "id": "597a47ba",
   "metadata": {},
   "source": [
    "<hr style=\"border:2px solid black\">"
   ]
  },
  {
   "cell_type": "markdown",
   "id": "e31e334b",
   "metadata": {},
   "source": [
    "## Setup 3\n",
    "c = [\n",
    "    [1, 2, 3],\n",
    "    [4, 5, 6],\n",
    "    [7, 8, 9]\n",
    "]\n",
    "\n",
    "<br>\n",
    "HINT, you'll first need to make sure that the \"c\" variable is a numpy array prior to using numpy array methods.\n"
   ]
  },
  {
   "cell_type": "markdown",
   "id": "c58d7872",
   "metadata": {},
   "source": [
    "\n",
    "#### 2 - Find the min, max, sum, and product of c.\n",
    "\n",
    "#### 3 - Determine the standard deviation of c.\n",
    "\n",
    "#### 4 - Determine the variance of c.\n",
    "\n",
    "#### 5- Print out the shape of the array c\n",
    "\n",
    "#### 6 - Transpose c and print out transposed result.\n",
    "\n",
    "#### 7 - Get the dot product of the array c with c. \n",
    "\n",
    "#### 8 - Write the code necessary to sum up the result of c times c transposed. Answer should be 261\n",
    "\n",
    "#### 9 - Write the code necessary to determine the product of c times c transposed. Answer should be 131681894400.\n"
   ]
  },
  {
   "cell_type": "markdown",
   "id": "b45a17fc",
   "metadata": {},
   "source": [
    "<hr style=\"border:2px solid black\">"
   ]
  },
  {
   "cell_type": "markdown",
   "id": "c4070fe0",
   "metadata": {},
   "source": [
    "## Setup 4\n",
    "d = [\n",
    "    [90, 30, 45, 0, 120, 180],\n",
    "    [45, -90, -30, 270, 90, 0],\n",
    "    [60, 45, -45, 90, -45, 180]\n",
    "]"
   ]
  },
  {
   "cell_type": "markdown",
   "id": "2b2333c7",
   "metadata": {},
   "source": [
    "#### 10 - Find the sine of all the numbers in d\n",
    "\n",
    "#### 11 - Find the cosine of all the numbers in d\n",
    "\n",
    "#### 12 - Find the tangent of all the numbers in d\n",
    "\n",
    "#### 13 - Find all the negative numbers in d\n",
    "\n",
    "#### 14 - Find all the positive numbers in d\n",
    "\n",
    "#### 15 - Return an array of only the unique numbers in d.\n",
    "\n",
    "#### 16 - Determine how many unique numbers there are in d.\n",
    "\n",
    "#### 17 - Print out the shape of d.\n",
    "\n",
    "#### 18 - Transpose and then print out the shape of d.\n",
    "\n",
    "#### 19 - Reshape d into an array of 9 x 2"
   ]
  },
  {
   "cell_type": "code",
   "execution_count": null,
   "id": "03d85294",
   "metadata": {},
   "outputs": [],
   "source": []
  }
 ],
 "metadata": {
  "kernelspec": {
   "display_name": "Python 3 (ipykernel)",
   "language": "python",
   "name": "python3"
  },
  "language_info": {
   "codemirror_mode": {
    "name": "ipython",
    "version": 3
   },
   "file_extension": ".py",
   "mimetype": "text/x-python",
   "name": "python",
   "nbconvert_exporter": "python",
   "pygments_lexer": "ipython3",
   "version": "3.9.13"
  }
 },
 "nbformat": 4,
 "nbformat_minor": 5
}
