{
 "cells": [
  {
   "cell_type": "markdown",
   "id": "5cb65238",
   "metadata": {},
   "source": [
    "# Numpy Exercises"
   ]
  },
  {
   "cell_type": "markdown",
   "id": "7f733a09",
   "metadata": {},
   "source": [
    "1. How many negative numbers are there?\n",
    "\n",
    "2. How many positive numbers are there?\n",
    "\n",
    "3. How many even positive numbers are there?\n",
    "\n",
    "4. If you were to add 3 to each data point, how many positive numbers would there be?\n",
    "\n",
    "5. If you squared each number, what would the new mean and standard deviation be?\n",
    "\n",
    "6. A common statistical operation on a dataset is centering. This means to adjust the data such that the mean of the data is 0. This is done by subtracting the mean from each data point. Center the data set. See this link for more on centering.\n",
    "\n",
    "7. Calculate the z-score for each data point. Recall that the z-score is given by:\n",
    "\n",
    "Z=(x−μ)/ σ"
   ]
  },
  {
   "cell_type": "markdown",
   "id": "3f7b8000",
   "metadata": {},
   "source": [
    "<hr style=\"border:2px solid gray\">"
   ]
  },
  {
   "cell_type": "code",
   "execution_count": 1,
   "id": "57900c69",
   "metadata": {},
   "outputs": [],
   "source": [
    "#import what the exercises call for\n",
    "import numpy as np"
   ]
  },
  {
   "cell_type": "code",
   "execution_count": 2,
   "id": "c96d3db5",
   "metadata": {},
   "outputs": [],
   "source": [
    "#this is the original numpy array given to us in the exercise\n",
    "a = np.array([4, 10, 12, 23, -2, -1, 0, 0, 0, -6, 3, -7])"
   ]
  },
  {
   "cell_type": "markdown",
   "id": "d74ddfe4",
   "metadata": {},
   "source": [
    "#### #1 How many negative numbers are there?\n",
    "**Answer**: 4"
   ]
  },
  {
   "cell_type": "code",
   "execution_count": 3,
   "id": "573418f8",
   "metadata": {},
   "outputs": [
    {
     "data": {
      "text/plain": [
       "array([-2, -1, -6, -7])"
      ]
     },
     "execution_count": 3,
     "metadata": {},
     "output_type": "execute_result"
    }
   ],
   "source": [
    "#a negative number is a numer that is less than 0\n",
    "#so lets take a look at what numbers are < 0\n",
    "mask_a = a[a<0]\n",
    "mask_a"
   ]
  },
  {
   "cell_type": "code",
   "execution_count": 4,
   "id": "ea29b6b1",
   "metadata": {},
   "outputs": [
    {
     "data": {
      "text/plain": [
       "array([False, False, False, False,  True,  True, False, False, False,\n",
       "        True, False,  True])"
      ]
     },
     "execution_count": 4,
     "metadata": {},
     "output_type": "execute_result"
    }
   ],
   "source": [
    "#another way to see this would be\n",
    "#if it is greater than 0 you get False (meaning its a positive number)\n",
    "#otherwise you get True (meaning its a negative number)\n",
    "a<0"
   ]
  },
  {
   "cell_type": "code",
   "execution_count": 5,
   "id": "c4e73a0a",
   "metadata": {},
   "outputs": [
    {
     "data": {
      "text/plain": [
       "4"
      ]
     },
     "execution_count": 5,
     "metadata": {},
     "output_type": "execute_result"
    }
   ],
   "source": [
    "#one way to capture this without counting... because we want to be lazy\n",
    "len(a[a<0])"
   ]
  },
  {
   "cell_type": "code",
   "execution_count": 6,
   "id": "8d5dfdf0",
   "metadata": {},
   "outputs": [
    {
     "data": {
      "text/plain": [
       "4"
      ]
     },
     "execution_count": 6,
     "metadata": {},
     "output_type": "execute_result"
    }
   ],
   "source": [
    "#OR we can be more streamlined and use our new mask..\n",
    "len(mask_a)"
   ]
  },
  {
   "cell_type": "code",
   "execution_count": 7,
   "id": "8bbe256c",
   "metadata": {},
   "outputs": [
    {
     "data": {
      "text/plain": [
       "4"
      ]
     },
     "execution_count": 7,
     "metadata": {},
     "output_type": "execute_result"
    }
   ],
   "source": [
    "#another way to capture this is by using .shape\n",
    "a[a<0].shape[0]"
   ]
  },
  {
   "cell_type": "markdown",
   "id": "780f21a8",
   "metadata": {},
   "source": [
    "<hr style=\"border:0.5px solid black\">"
   ]
  },
  {
   "cell_type": "markdown",
   "id": "a6bcb4cb",
   "metadata": {},
   "source": [
    "#### #2 How many positive numbers are there?\n",
    "**Answer**: 5"
   ]
  },
  {
   "cell_type": "code",
   "execution_count": 8,
   "id": "dec6debd",
   "metadata": {},
   "outputs": [
    {
     "data": {
      "text/plain": [
       "array([ 4, 10, 12, 23,  3])"
      ]
     },
     "execution_count": 8,
     "metadata": {},
     "output_type": "execute_result"
    }
   ],
   "source": [
    "#a positive number is a numer that is greatere than 0\n",
    "#so lets take a look at what numbers are > 0\n",
    "pos_num = a[a>0]\n",
    "\n",
    "#let's call that variable\n",
    "pos_num"
   ]
  },
  {
   "cell_type": "code",
   "execution_count": 9,
   "id": "3835b5b2",
   "metadata": {},
   "outputs": [
    {
     "data": {
      "text/plain": [
       "5"
      ]
     },
     "execution_count": 9,
     "metadata": {},
     "output_type": "execute_result"
    }
   ],
   "source": [
    "#lets see how MANY psositive numbers are in our array\n",
    "len(pos_num)"
   ]
  },
  {
   "cell_type": "code",
   "execution_count": 10,
   "id": "88a37593",
   "metadata": {},
   "outputs": [
    {
     "data": {
      "text/plain": [
       "5"
      ]
     },
     "execution_count": 10,
     "metadata": {},
     "output_type": "execute_result"
    }
   ],
   "source": [
    "#another way to accomplish this\n",
    "pos_num.shape[0]"
   ]
  },
  {
   "cell_type": "markdown",
   "id": "096595a6",
   "metadata": {},
   "source": [
    "<hr style=\"border:0.5px solid black\">"
   ]
  },
  {
   "cell_type": "markdown",
   "id": "aab0f56c",
   "metadata": {},
   "source": [
    "#### #3 How many even positive numbers are there?\n",
    "**Answer**: 3"
   ]
  },
  {
   "cell_type": "code",
   "execution_count": 11,
   "id": "60a83d22",
   "metadata": {},
   "outputs": [
    {
     "data": {
      "text/plain": [
       "array([ 4, 10, 12, 23,  3])"
      ]
     },
     "execution_count": 11,
     "metadata": {},
     "output_type": "execute_result"
    }
   ],
   "source": [
    "#first, lets look at our positives again\n",
    "#pull that from problem 2\n",
    "pos_num"
   ]
  },
  {
   "cell_type": "code",
   "execution_count": 12,
   "id": "73669c1c",
   "metadata": {},
   "outputs": [
    {
     "data": {
      "text/plain": [
       "array([ 4, 10, 12])"
      ]
     },
     "execution_count": 12,
     "metadata": {},
     "output_type": "execute_result"
    }
   ],
   "source": [
    "#this will give you all the of the even positive #s\n",
    "#we are creating a variable that takes positive numbers only (a variable we already created),\n",
    "##divides them by two with 0 remaining (meaning they will be even as well)\n",
    "pos_and_even = pos_num[pos_num % 2 == 0]\n",
    "\n",
    "#take a look at the EVEN and POSITIVE numbers within our array\n",
    "pos_and_even"
   ]
  },
  {
   "cell_type": "code",
   "execution_count": 13,
   "id": "5edbbd32",
   "metadata": {},
   "outputs": [
    {
     "data": {
      "text/plain": [
       "3"
      ]
     },
     "execution_count": 13,
     "metadata": {},
     "output_type": "execute_result"
    }
   ],
   "source": [
    "#now let's get the length of that for the answer\n",
    "len(pos_and_even)"
   ]
  },
  {
   "cell_type": "markdown",
   "id": "0776ec7b",
   "metadata": {},
   "source": [
    "<hr style=\"border:0.5px solid black\">"
   ]
  },
  {
   "cell_type": "markdown",
   "id": "66fc47c3",
   "metadata": {},
   "source": [
    "#### #4. If you were to add 3 to each data point, how many positive numbers would there be?\n",
    "**Answer**: 10"
   ]
  },
  {
   "cell_type": "code",
   "execution_count": 14,
   "id": "504652ec",
   "metadata": {},
   "outputs": [
    {
     "data": {
      "text/plain": [
       "array([ 7, 13, 15, 26,  1,  2,  3,  3,  3, -3,  6, -4])"
      ]
     },
     "execution_count": 14,
     "metadata": {},
     "output_type": "execute_result"
    }
   ],
   "source": [
    "#creating a new variable named 'c' that adds 3 to each item in the array\n",
    "c = a+3\n",
    "\n",
    "#lets take a look at that original array (a) with 3 added to each number\n",
    "c"
   ]
  },
  {
   "cell_type": "code",
   "execution_count": 15,
   "id": "08fa0c6b",
   "metadata": {},
   "outputs": [
    {
     "name": "stdout",
     "output_type": "stream",
     "text": [
      "[ 7 13 15 26  1  2  3  3  3 -3  6 -4]\n",
      "[ 4 10 12 23 -2 -1  0  0  0 -6  3 -7]\n"
     ]
    }
   ],
   "source": [
    "#let's double check by printing a (original array) next to c (our new array)\n",
    "print(c) #new\n",
    "print(a) #old\n",
    "\n",
    "#yes! it did add 3 to each number"
   ]
  },
  {
   "cell_type": "code",
   "execution_count": 16,
   "id": "b447ef9a",
   "metadata": {},
   "outputs": [
    {
     "data": {
      "text/plain": [
       "10"
      ]
     },
     "execution_count": 16,
     "metadata": {},
     "output_type": "execute_result"
    }
   ],
   "source": [
    "#now to get the answer of \"how many positive numbers there will be\"\n",
    "sum_3 = a[(a + 3) > 0]\n",
    "\n",
    "len(sum_3)"
   ]
  },
  {
   "cell_type": "code",
   "execution_count": 17,
   "id": "de545978",
   "metadata": {},
   "outputs": [
    {
     "data": {
      "text/plain": [
       "array([ 4, 10, 12, 23, -2, -1,  0,  0,  0,  3])"
      ]
     },
     "execution_count": 17,
     "metadata": {},
     "output_type": "execute_result"
    }
   ],
   "source": [
    "sum_3"
   ]
  },
  {
   "cell_type": "markdown",
   "id": "7d1f3ca6",
   "metadata": {},
   "source": [
    "<hr style=\"border:0.5px solid black\">"
   ]
  },
  {
   "cell_type": "markdown",
   "id": "9af9c63a",
   "metadata": {},
   "source": [
    "#### #5. If you squared each number\n",
    "**Answer**: mean = 74\n",
    "<br>**Answer**: standard deviation = 144"
   ]
  },
  {
   "cell_type": "code",
   "execution_count": 18,
   "id": "4ccc069f",
   "metadata": {},
   "outputs": [
    {
     "data": {
      "text/plain": [
       "array([ 16, 100, 144, 529,   4,   1,   0,   0,   0,  36,   9,  49])"
      ]
     },
     "execution_count": 18,
     "metadata": {},
     "output_type": "execute_result"
    }
   ],
   "source": [
    "#First, lets square each number\n",
    "squared= a**2\n",
    "\n",
    "#and take a look at the array (squared)\n",
    "squared"
   ]
  },
  {
   "cell_type": "code",
   "execution_count": 19,
   "id": "cde7a88c",
   "metadata": {},
   "outputs": [
    {
     "data": {
      "text/plain": [
       "74.0"
      ]
     },
     "execution_count": 19,
     "metadata": {},
     "output_type": "execute_result"
    }
   ],
   "source": [
    "#the mean is the average\n",
    "#name a variable that uses our new variable of 'squared' and uses .mean to find the mean of our new squared array\n",
    "mean = squared.mean()\n",
    "\n",
    "#let's call the variable to get our answer\n",
    "mean"
   ]
  },
  {
   "cell_type": "code",
   "execution_count": 20,
   "id": "f56bdd80",
   "metadata": {},
   "outputs": [
    {
     "data": {
      "text/plain": [
       "144.0243035046516"
      ]
     },
     "execution_count": 20,
     "metadata": {},
     "output_type": "execute_result"
    }
   ],
   "source": [
    "#name a variable standdev that uses our new variable of 'squared' and uses .std for standard deviation\n",
    "standev = squared.std()\n",
    "\n",
    "#let's call the new variable to get our answer\n",
    "standev"
   ]
  },
  {
   "cell_type": "code",
   "execution_count": 21,
   "id": "72d23baa",
   "metadata": {},
   "outputs": [
    {
     "name": "stdout",
     "output_type": "stream",
     "text": [
      "The new mean is 74.0.\n",
      "The new standard deviation is 144.0243035046516.\n"
     ]
    }
   ],
   "source": [
    "#Let's put it all together\n",
    "squared = a ** 2\n",
    "print('The new mean is {}.'.format(squared.mean()))\n",
    "print('The new standard deviation is {}.'.format(squared.std()))"
   ]
  },
  {
   "cell_type": "code",
   "execution_count": 22,
   "id": "73190253",
   "metadata": {},
   "outputs": [
    {
     "name": "stdout",
     "output_type": "stream",
     "text": [
      "The new mean is 74.0\n",
      "The new standard deviation is 144.02\n"
     ]
    }
   ],
   "source": [
    "#OR we can use the new variable we created above\n",
    "#Let's put it all together\n",
    "\n",
    "print(f\"The new mean is {mean}\")\n",
    "print(f\"The new standard deviation is {standev:.2f}\")"
   ]
  },
  {
   "cell_type": "markdown",
   "id": "f6893cc8",
   "metadata": {},
   "source": [
    "<hr style=\"border:0.5px solid black\">"
   ]
  },
  {
   "cell_type": "markdown",
   "id": "44964460",
   "metadata": {},
   "source": [
    "#### #6: A common statistical operation on a dataset is centering. This means to adjust the data such that the mean of the data is 0. This is done by subtracting the mean from each data point. Center the data set. See this link for more on centering.\n",
    "<br> **Answer**: array([  1.,   7.,   9.,  20.,  -5.,  -4.,  -3.,  -3.,  -3.,  -9.,   0., -10.]) "
   ]
  },
  {
   "cell_type": "markdown",
   "id": "a18e5f68",
   "metadata": {},
   "source": [
    "<div class=\"alert-info\">\n",
    "    <b>Why do we 'center' our data sets??</b>\n",
    "<br>    \n",
    "Take a look at these link: <br>\n",
    "    - https://www.statsimprove.com/en/centering-the-variables-what-it-means-and-what-it-is-used-for-2/\n",
    "    <br>\n",
    "    - https://www.theanalysisfactor.com/centering-and-standardizing-predictors/\n",
    "<br>    \n",
    "\n",
    "Centering will become more clear when we get into modeling.\n",
    "</div>"
   ]
  },
  {
   "cell_type": "code",
   "execution_count": 23,
   "id": "9e3d6b11",
   "metadata": {},
   "outputs": [
    {
     "data": {
      "text/plain": [
       "array([ 4, 10, 12, 23, -2, -1,  0,  0,  0, -6,  3, -7])"
      ]
     },
     "execution_count": 23,
     "metadata": {},
     "output_type": "execute_result"
    }
   ],
   "source": [
    "#let's see what 'a' looks like\n",
    "a"
   ]
  },
  {
   "cell_type": "code",
   "execution_count": 24,
   "id": "45f79d01",
   "metadata": {},
   "outputs": [
    {
     "data": {
      "text/plain": [
       "3.0"
      ]
     },
     "execution_count": 24,
     "metadata": {},
     "output_type": "execute_result"
    }
   ],
   "source": [
    "#now let's find the mean of our array\n",
    "#we get 3\n",
    "a.mean()"
   ]
  },
  {
   "cell_type": "code",
   "execution_count": 25,
   "id": "41e28695",
   "metadata": {},
   "outputs": [],
   "source": [
    "#So, if we are going to \"center the data set\", we will subtract the mean (3) from each point\n",
    "#Center the original dataset by subtracting the mean from each data point\n",
    "\n",
    "#Let's create a variable that holds that act\n",
    "centered_a = a - a.mean()"
   ]
  },
  {
   "cell_type": "code",
   "execution_count": 26,
   "id": "e51fb6d3",
   "metadata": {},
   "outputs": [
    {
     "data": {
      "text/plain": [
       "0.0"
      ]
     },
     "execution_count": 26,
     "metadata": {},
     "output_type": "execute_result"
    }
   ],
   "source": [
    "#double check by looking at the MEAN of our new 'centered' array \n",
    "#it should be 0\n",
    "centered_a.mean()"
   ]
  },
  {
   "cell_type": "code",
   "execution_count": 27,
   "id": "f7e0a55a",
   "metadata": {},
   "outputs": [
    {
     "data": {
      "text/plain": [
       "array([  1.,   7.,   9.,  20.,  -5.,  -4.,  -3.,  -3.,  -3.,  -9.,   0.,\n",
       "       -10.])"
      ]
     },
     "execution_count": 27,
     "metadata": {},
     "output_type": "execute_result"
    }
   ],
   "source": [
    "#Take a look at what that new 'centered' array looks like\n",
    "centered_a"
   ]
  },
  {
   "cell_type": "markdown",
   "id": "9c0ac4bd",
   "metadata": {},
   "source": [
    "<hr style=\"border:0.5px solid black\">"
   ]
  },
  {
   "cell_type": "markdown",
   "id": "3b99a404",
   "metadata": {},
   "source": [
    "#### #7 Calculate the z-score for each data point. Recall that the z-score is given by:\n",
    "Z=(x−μ)/ σ"
   ]
  },
  {
   "cell_type": "markdown",
   "id": "110d54a5",
   "metadata": {},
   "source": [
    "<div class=\"alert-info\">\n",
    "    <b>What is Z-score??</b>\n",
    "<br>    \n",
    "Essentially, Z-score is an indication of how much a given value differs from the standard deviation.\n",
    "<br>    \n",
    "For our purposes we will be using z-score in anomaly detection to determine what our outliers are\n",
    "</div>"
   ]
  },
  {
   "cell_type": "code",
   "execution_count": 28,
   "id": "d00d6e77",
   "metadata": {},
   "outputs": [
    {
     "data": {
      "text/plain": [
       "array([ 0.12403473,  0.86824314,  1.11631261,  2.48069469, -0.62017367,\n",
       "       -0.49613894, -0.3721042 , -0.3721042 , -0.3721042 , -1.11631261,\n",
       "        0.        , -1.24034735])"
      ]
     },
     "execution_count": 28,
     "metadata": {},
     "output_type": "execute_result"
    }
   ],
   "source": [
    "z_scores = centered_a / a.std()\n",
    "z_scores"
   ]
  },
  {
   "cell_type": "markdown",
   "id": "a147d34a",
   "metadata": {},
   "source": [
    "<hr style=\"border:0.5px solid black\">"
   ]
  },
  {
   "cell_type": "markdown",
   "id": "8ea5f5f2",
   "metadata": {},
   "source": [
    "#### #8 MORE NUMPY PRACTICE\n",
    "**added to seperate file"
   ]
  }
 ],
 "metadata": {
  "kernelspec": {
   "display_name": "Python 3 (ipykernel)",
   "language": "python",
   "name": "python3"
  },
  "language_info": {
   "codemirror_mode": {
    "name": "ipython",
    "version": 3
   },
   "file_extension": ".py",
   "mimetype": "text/x-python",
   "name": "python",
   "nbconvert_exporter": "python",
   "pygments_lexer": "ipython3",
   "version": "3.9.13"
  }
 },
 "nbformat": 4,
 "nbformat_minor": 5
}
