{
 "cells": [
  {
   "cell_type": "markdown",
   "id": "cdd1bc18",
   "metadata": {},
   "source": [
    "# Numpy Exercises Question 8"
   ]
  },
  {
   "cell_type": "code",
   "execution_count": 1,
   "id": "7bf5850c",
   "metadata": {},
   "outputs": [],
   "source": [
    "import numpy as np"
   ]
  },
  {
   "cell_type": "markdown",
   "id": "9ae7b2d8",
   "metadata": {},
   "source": [
    "<hr style=\"border:1px solid gray\">"
   ]
  },
  {
   "cell_type": "markdown",
   "id": "14b9cf59",
   "metadata": {},
   "source": [
    "## Setup #1"
   ]
  },
  {
   "cell_type": "code",
   "execution_count": 2,
   "id": "02af0d35",
   "metadata": {},
   "outputs": [],
   "source": [
    "a = [1, 2, 3, 4, 5, 6, 7, 8, 9, 10]"
   ]
  },
  {
   "cell_type": "markdown",
   "id": "e037a9e6",
   "metadata": {},
   "source": [
    "#### #1. Make a variable called sum_of_a to hold the sum of all the numbers in above list"
   ]
  },
  {
   "cell_type": "code",
   "execution_count": 3,
   "id": "7ec781b8",
   "metadata": {},
   "outputs": [],
   "source": [
    "a = np.array([1, 2, 3, 4, 5, 6, 7, 8, 9, 10])"
   ]
  },
  {
   "cell_type": "code",
   "execution_count": 4,
   "id": "ebae7db6",
   "metadata": {},
   "outputs": [
    {
     "data": {
      "text/plain": [
       "55"
      ]
     },
     "execution_count": 4,
     "metadata": {},
     "output_type": "execute_result"
    }
   ],
   "source": [
    "sum_of_a = a.sum()\n",
    "sum_of_a"
   ]
  },
  {
   "cell_type": "markdown",
   "id": "476bc94e",
   "metadata": {},
   "source": [
    "#### #2. - Make a variable named min_of_a to hold the minimum of all the numbers in the above list"
   ]
  },
  {
   "cell_type": "code",
   "execution_count": 5,
   "id": "8b3c66f8",
   "metadata": {},
   "outputs": [
    {
     "data": {
      "text/plain": [
       "1"
      ]
     },
     "execution_count": 5,
     "metadata": {},
     "output_type": "execute_result"
    }
   ],
   "source": [
    "min_of_a = a.min()\n",
    "min_of_a"
   ]
  },
  {
   "cell_type": "markdown",
   "id": "43960098",
   "metadata": {},
   "source": [
    "#### #3. Make a variable named max_of_a to hold the max number of all the numbers in the above list"
   ]
  },
  {
   "cell_type": "code",
   "execution_count": 6,
   "id": "bbdd8a69",
   "metadata": {},
   "outputs": [
    {
     "data": {
      "text/plain": [
       "10"
      ]
     },
     "execution_count": 6,
     "metadata": {},
     "output_type": "execute_result"
    }
   ],
   "source": [
    "max_of_a = a.max()\n",
    "max_of_a"
   ]
  },
  {
   "cell_type": "markdown",
   "id": "39ddeaf5",
   "metadata": {},
   "source": [
    "#### #4. Make a variable named mean_of_a to hold the average of all the numbers in the above list"
   ]
  },
  {
   "cell_type": "code",
   "execution_count": 7,
   "id": "d617d640",
   "metadata": {},
   "outputs": [
    {
     "data": {
      "text/plain": [
       "5.5"
      ]
     },
     "execution_count": 7,
     "metadata": {},
     "output_type": "execute_result"
    }
   ],
   "source": [
    "mean_of_a = a.mean()\n",
    "mean_of_a"
   ]
  },
  {
   "cell_type": "code",
   "execution_count": 8,
   "id": "5e8aacc4",
   "metadata": {},
   "outputs": [
    {
     "data": {
      "text/plain": [
       "5.5"
      ]
     },
     "execution_count": 8,
     "metadata": {},
     "output_type": "execute_result"
    }
   ],
   "source": [
    "#Teacher example:\n",
    "mean_of_a = sum(a)/len(a)\n",
    "mean_of_a"
   ]
  },
  {
   "cell_type": "markdown",
   "id": "4dd059ce",
   "metadata": {},
   "source": [
    "#### #5. Make a variable named product_of_a to hold the product of multiplying all the numbers in the above list together"
   ]
  },
  {
   "cell_type": "code",
   "execution_count": 9,
   "id": "0c6b06e0",
   "metadata": {},
   "outputs": [
    {
     "data": {
      "text/plain": [
       "3628800"
      ]
     },
     "execution_count": 9,
     "metadata": {},
     "output_type": "execute_result"
    }
   ],
   "source": [
    "product_of_a = np.prod(a)\n",
    "product_of_a"
   ]
  },
  {
   "cell_type": "code",
   "execution_count": 10,
   "id": "2850e079",
   "metadata": {},
   "outputs": [
    {
     "data": {
      "text/plain": [
       "3628800"
      ]
     },
     "execution_count": 10,
     "metadata": {},
     "output_type": "execute_result"
    }
   ],
   "source": [
    "#Teacher example:\n",
    "product_of_a = 1\n",
    "for n in a:\n",
    "    product_of_a *= n\n",
    "    \n",
    "product_of_a"
   ]
  },
  {
   "cell_type": "markdown",
   "id": "9d4d15d6",
   "metadata": {},
   "source": [
    "#### #6.  Make a variable named squares_of_a. It should hold each number in a squared like [1, 4, 9, 16, 25...]"
   ]
  },
  {
   "cell_type": "code",
   "execution_count": 11,
   "id": "03bd6299",
   "metadata": {},
   "outputs": [
    {
     "data": {
      "text/plain": [
       "array([  1,   4,   9,  16,  25,  36,  49,  64,  81, 100])"
      ]
     },
     "execution_count": 11,
     "metadata": {},
     "output_type": "execute_result"
    }
   ],
   "source": [
    "square_of_a = np.square(a)\n",
    "square_of_a"
   ]
  },
  {
   "cell_type": "code",
   "execution_count": 12,
   "id": "4b33adcf",
   "metadata": {},
   "outputs": [
    {
     "data": {
      "text/plain": [
       "[1, 4, 9, 16, 25, 36, 49, 64, 81, 100]"
      ]
     },
     "execution_count": 12,
     "metadata": {},
     "output_type": "execute_result"
    }
   ],
   "source": [
    "#Teacher example:\n",
    "squares_of_a = [n**2 for n in a]\n",
    "squares_of_a"
   ]
  },
  {
   "cell_type": "markdown",
   "id": "bf4b3d98",
   "metadata": {},
   "source": [
    "#### #7. Make a variable named odds_in_a. It should hold only the odd numbers"
   ]
  },
  {
   "cell_type": "code",
   "execution_count": 13,
   "id": "8ba22f87",
   "metadata": {},
   "outputs": [
    {
     "data": {
      "text/plain": [
       "array([1, 3, 5, 7, 9])"
      ]
     },
     "execution_count": 13,
     "metadata": {},
     "output_type": "execute_result"
    }
   ],
   "source": [
    "odds_in_a = a[a % 2 !=0]\n",
    "odds_in_a"
   ]
  },
  {
   "cell_type": "code",
   "execution_count": 14,
   "id": "90585702",
   "metadata": {},
   "outputs": [
    {
     "data": {
      "text/plain": [
       "[1, 3, 5, 7, 9]"
      ]
     },
     "execution_count": 14,
     "metadata": {},
     "output_type": "execute_result"
    }
   ],
   "source": [
    "#Teacher example:\n",
    "odds_in_a = [n for n in a if n % 2 == 1]\n",
    "odds_in_a"
   ]
  },
  {
   "cell_type": "markdown",
   "id": "649d077a",
   "metadata": {},
   "source": [
    "#### #8. Make a variable named evens_in_a. It should hold only the evens"
   ]
  },
  {
   "cell_type": "code",
   "execution_count": 15,
   "id": "632e3b4b",
   "metadata": {},
   "outputs": [
    {
     "data": {
      "text/plain": [
       "array([ 2,  4,  6,  8, 10])"
      ]
     },
     "execution_count": 15,
     "metadata": {},
     "output_type": "execute_result"
    }
   ],
   "source": [
    "evens_in_a = a[a % 2 ==0]\n",
    "evens_in_a"
   ]
  },
  {
   "cell_type": "code",
   "execution_count": 16,
   "id": "0ea2048c",
   "metadata": {},
   "outputs": [
    {
     "data": {
      "text/plain": [
       "[2, 4, 6, 8, 10]"
      ]
     },
     "execution_count": 16,
     "metadata": {},
     "output_type": "execute_result"
    }
   ],
   "source": [
    "#Teacher example:\n",
    "odds_in_a = [n for n in a if n % 2 == 0]\n",
    "odds_in_a"
   ]
  },
  {
   "cell_type": "markdown",
   "id": "6b7d5d4a",
   "metadata": {},
   "source": [
    "<hr style=\"border:2px solid black\">"
   ]
  },
  {
   "cell_type": "markdown",
   "id": "5fe50f8d",
   "metadata": {},
   "source": [
    "## Setup #2"
   ]
  },
  {
   "cell_type": "markdown",
   "id": "5a5c41dc",
   "metadata": {},
   "source": [
    "What about life in two dimensions? A list of lists is matrix, a table, a spreadsheet, a chessboard...\n",
    "\n",
    "- Consider what it would take to find the sum, min, max, average, sum, product, and list of squares for this list of two lists. b = [ [3, 4, 5], [6, 7, 8] ]\n"
   ]
  },
  {
   "cell_type": "code",
   "execution_count": 17,
   "id": "f86195ea",
   "metadata": {},
   "outputs": [],
   "source": [
    "b = np.array ([\n",
    "    [3, 4, 5],\n",
    "    [6, 7, 8]\n",
    "])"
   ]
  },
  {
   "cell_type": "markdown",
   "id": "382c225e",
   "metadata": {},
   "source": [
    "#### #1. refactor the following to use numpy. Use sum_of_b as the variable. Hint, you'll first need to make sure that the \"b\" variable is a numpy array\n"
   ]
  },
  {
   "cell_type": "raw",
   "id": "07dcf5a0",
   "metadata": {},
   "source": [
    "sum_of_b = 0\n",
    "for row in b:\n",
    "    sum_of_b += sum(row)\n",
    "\n",
    "sum_of_b"
   ]
  },
  {
   "cell_type": "code",
   "execution_count": 19,
   "id": "f2fc8269",
   "metadata": {},
   "outputs": [
    {
     "data": {
      "text/plain": [
       "33"
      ]
     },
     "execution_count": 19,
     "metadata": {},
     "output_type": "execute_result"
    }
   ],
   "source": [
    "sum_of_b = b.sum()\n",
    "sum_of_b"
   ]
  },
  {
   "cell_type": "markdown",
   "id": "9cc32781",
   "metadata": {},
   "source": [
    "#### #2. refactor the following to use numpy. "
   ]
  },
  {
   "cell_type": "raw",
   "id": "cbc1a44b",
   "metadata": {},
   "source": [
    "min_of_b = min(b[0]) if min(b[0]) <= min(b[1]) else min(b[1]) "
   ]
  },
  {
   "cell_type": "code",
   "execution_count": 20,
   "id": "e8ee63e2",
   "metadata": {},
   "outputs": [
    {
     "data": {
      "text/plain": [
       "3"
      ]
     },
     "execution_count": 20,
     "metadata": {},
     "output_type": "execute_result"
    }
   ],
   "source": [
    "min_of_b = b.min()\n",
    "min_of_b"
   ]
  },
  {
   "cell_type": "markdown",
   "id": "d8734ae7",
   "metadata": {},
   "source": [
    "#### #3. refactor the following maximum calculation to find the answer with numpy."
   ]
  },
  {
   "cell_type": "raw",
   "id": "ab70ae4c",
   "metadata": {},
   "source": [
    "max_of_b = max(b[0]) if max(b[0]) >= max(b[1]) else max(b[1])"
   ]
  },
  {
   "cell_type": "code",
   "execution_count": 21,
   "id": "bb94a04f",
   "metadata": {},
   "outputs": [
    {
     "data": {
      "text/plain": [
       "8"
      ]
     },
     "execution_count": 21,
     "metadata": {},
     "output_type": "execute_result"
    }
   ],
   "source": [
    "max_of_b = b.max()\n",
    "max_of_b"
   ]
  },
  {
   "cell_type": "markdown",
   "id": "3a20897d",
   "metadata": {},
   "source": [
    "#### #4. refactor the following using numpy to find the mean of b"
   ]
  },
  {
   "cell_type": "raw",
   "id": "31eeee5d",
   "metadata": {},
   "source": [
    "mean_of_b = (sum(b[0]) + sum(b[1])) / (len(b[0]) + len(b[1]))"
   ]
  },
  {
   "cell_type": "code",
   "execution_count": 22,
   "id": "6dbf4588",
   "metadata": {},
   "outputs": [
    {
     "data": {
      "text/plain": [
       "5.5"
      ]
     },
     "execution_count": 22,
     "metadata": {},
     "output_type": "execute_result"
    }
   ],
   "source": [
    "mean_of_b = b.mean()\n",
    "mean_of_b"
   ]
  },
  {
   "cell_type": "markdown",
   "id": "7de5012e",
   "metadata": {},
   "source": [
    "#### #5. refactor the following to use numpy for calculating the product of all numbers multiplied together."
   ]
  },
  {
   "cell_type": "raw",
   "id": "88f8f58d",
   "metadata": {},
   "source": [
    "product_of_b = 1\n",
    "for row in b:\n",
    "    for number in row:\n",
    "        product_of_b *= number"
   ]
  },
  {
   "cell_type": "code",
   "execution_count": 23,
   "id": "1050e35a",
   "metadata": {},
   "outputs": [
    {
     "data": {
      "text/plain": [
       "20160"
      ]
     },
     "execution_count": 23,
     "metadata": {},
     "output_type": "execute_result"
    }
   ],
   "source": [
    "prod_of_b = np.prod(b)\n",
    "prod_of_b"
   ]
  },
  {
   "cell_type": "code",
   "execution_count": 24,
   "id": "709497cd",
   "metadata": {},
   "outputs": [
    {
     "data": {
      "text/plain": [
       "20160"
      ]
     },
     "execution_count": 24,
     "metadata": {},
     "output_type": "execute_result"
    }
   ],
   "source": [
    "#Teacher example:\n",
    "product_of_b = b.prod()\n",
    "product_of_b"
   ]
  },
  {
   "cell_type": "markdown",
   "id": "dd268003",
   "metadata": {},
   "source": [
    "#### #6. refactor the following to use numpy to find the list of squares "
   ]
  },
  {
   "cell_type": "raw",
   "id": "5f0ca712",
   "metadata": {},
   "source": [
    "squares_of_b = []\n",
    "for row in b:\n",
    "    for number in row:\n",
    "        squares_of_b.append(number**2)"
   ]
  },
  {
   "cell_type": "code",
   "execution_count": 25,
   "id": "6234cf3e",
   "metadata": {},
   "outputs": [
    {
     "data": {
      "text/plain": [
       "array([[ 9, 16, 25],\n",
       "       [36, 49, 64]])"
      ]
     },
     "execution_count": 25,
     "metadata": {},
     "output_type": "execute_result"
    }
   ],
   "source": [
    "square_of_b = np.square(b)\n",
    "square_of_b"
   ]
  },
  {
   "cell_type": "code",
   "execution_count": 27,
   "id": "1e3c0249",
   "metadata": {},
   "outputs": [],
   "source": [
    "#Teacher example:\n",
    "squares_of_b = b ** 2"
   ]
  },
  {
   "cell_type": "markdown",
   "id": "cd67ad87",
   "metadata": {},
   "source": [
    "#### #7. refactor using numpy to determine the odds_in_b"
   ]
  },
  {
   "cell_type": "raw",
   "id": "3ad67f40",
   "metadata": {},
   "source": [
    "odds_in_b = []\n",
    "for row in b:\n",
    "    for number in row:\n",
    "        if(number % 2 != 0):\n",
    "            odds_in_b.append(number)"
   ]
  },
  {
   "cell_type": "code",
   "execution_count": 28,
   "id": "e468fe7d",
   "metadata": {},
   "outputs": [
    {
     "data": {
      "text/plain": [
       "array([3, 5, 7])"
      ]
     },
     "execution_count": 28,
     "metadata": {},
     "output_type": "execute_result"
    }
   ],
   "source": [
    "odds_in_b = b[b % 2 !=0]\n",
    "odds_in_b"
   ]
  },
  {
   "cell_type": "markdown",
   "id": "04151f6f",
   "metadata": {},
   "source": [
    "#### #8. refactor the following to use numpy to filter only the even numbers"
   ]
  },
  {
   "cell_type": "raw",
   "id": "093b857a",
   "metadata": {},
   "source": [
    "evens_in_b = []\n",
    "for row in b:\n",
    "    for number in row:\n",
    "        if(number % 2 == 0):\n",
    "            evens_in_b.append(number)"
   ]
  },
  {
   "cell_type": "code",
   "execution_count": 30,
   "id": "cece8d82",
   "metadata": {},
   "outputs": [
    {
     "data": {
      "text/plain": [
       "array([4, 6, 8])"
      ]
     },
     "execution_count": 30,
     "metadata": {},
     "output_type": "execute_result"
    }
   ],
   "source": [
    "evens_in_b = b[b % 2 ==0]\n",
    "evens_in_b"
   ]
  },
  {
   "cell_type": "markdown",
   "id": "fd653ca8",
   "metadata": {},
   "source": [
    "#### #9. print out the shape of the array b."
   ]
  },
  {
   "cell_type": "code",
   "execution_count": 32,
   "id": "b4c63278",
   "metadata": {},
   "outputs": [
    {
     "name": "stdout",
     "output_type": "stream",
     "text": [
      "(2, 3)\n"
     ]
    }
   ],
   "source": [
    "print(b.shape)"
   ]
  },
  {
   "cell_type": "markdown",
   "id": "a724e737",
   "metadata": {},
   "source": [
    "#### #10. transpose the array b."
   ]
  },
  {
   "cell_type": "code",
   "execution_count": 33,
   "id": "6ca8536e",
   "metadata": {},
   "outputs": [
    {
     "data": {
      "text/plain": [
       "array([[3, 6],\n",
       "       [4, 7],\n",
       "       [5, 8]])"
      ]
     },
     "execution_count": 33,
     "metadata": {},
     "output_type": "execute_result"
    }
   ],
   "source": [
    "np.transpose(b)"
   ]
  },
  {
   "cell_type": "code",
   "execution_count": 34,
   "id": "e038bd39",
   "metadata": {},
   "outputs": [
    {
     "data": {
      "text/plain": [
       "array([[3, 6],\n",
       "       [4, 7],\n",
       "       [5, 8]])"
      ]
     },
     "execution_count": 34,
     "metadata": {},
     "output_type": "execute_result"
    }
   ],
   "source": [
    "#Teacher example:\n",
    "b.transpose()"
   ]
  },
  {
   "cell_type": "markdown",
   "id": "9e48ef80",
   "metadata": {},
   "source": [
    "#### #11. reshape the array b to be a single list of 6 numbers. (1 x 6)"
   ]
  },
  {
   "cell_type": "code",
   "execution_count": 35,
   "id": "4232de5d",
   "metadata": {},
   "outputs": [
    {
     "data": {
      "text/plain": [
       "array([[3, 4, 5, 6, 7, 8]])"
      ]
     },
     "execution_count": 35,
     "metadata": {},
     "output_type": "execute_result"
    }
   ],
   "source": [
    "np.reshape(b, (1,6))"
   ]
  },
  {
   "cell_type": "markdown",
   "id": "faa2a0da",
   "metadata": {},
   "source": [
    "#### #12. reshape the array b to be a list of 6 lists, each containing only 1 number (6 x 1)"
   ]
  },
  {
   "cell_type": "code",
   "execution_count": 36,
   "id": "5f90f361",
   "metadata": {},
   "outputs": [
    {
     "data": {
      "text/plain": [
       "array([[3],\n",
       "       [4],\n",
       "       [5],\n",
       "       [6],\n",
       "       [7],\n",
       "       [8]])"
      ]
     },
     "execution_count": 36,
     "metadata": {},
     "output_type": "execute_result"
    }
   ],
   "source": [
    "np.reshape(b, (6,1))"
   ]
  },
  {
   "cell_type": "code",
   "execution_count": 37,
   "id": "1c1bc80c",
   "metadata": {},
   "outputs": [
    {
     "data": {
      "text/plain": [
       "array([[3],\n",
       "       [4],\n",
       "       [5],\n",
       "       [6],\n",
       "       [7],\n",
       "       [8]])"
      ]
     },
     "execution_count": 37,
     "metadata": {},
     "output_type": "execute_result"
    }
   ],
   "source": [
    "#You can not know how many rows or columns you need\n",
    "#you can use -1 if you only know one (rows or columns)\n",
    "#Teacher example:\n",
    "\n",
    "b.reshape(6,-1)"
   ]
  },
  {
   "cell_type": "markdown",
   "id": "d22d43e6",
   "metadata": {},
   "source": [
    "<hr style=\"border:2px solid black\">"
   ]
  },
  {
   "cell_type": "markdown",
   "id": "e1adbbbd",
   "metadata": {},
   "source": [
    "## Setup #3"
   ]
  },
  {
   "cell_type": "code",
   "execution_count": 38,
   "id": "5bd382a3",
   "metadata": {},
   "outputs": [],
   "source": [
    "## Setup 3\n",
    "c = [\n",
    "    [1, 2, 3],\n",
    "    [4, 5, 6],\n",
    "    [7, 8, 9]\n",
    "]"
   ]
  },
  {
   "cell_type": "code",
   "execution_count": 39,
   "id": "c0c1a401",
   "metadata": {},
   "outputs": [],
   "source": [
    "c = np.array([\n",
    "    [1, 2, 3],\n",
    "    [4, 5, 6],\n",
    "    [7, 8, 9]\n",
    "])"
   ]
  },
  {
   "cell_type": "code",
   "execution_count": 40,
   "id": "e66a754a",
   "metadata": {},
   "outputs": [],
   "source": [
    "#Teacher Example:\n",
    "#can also say:\n",
    "c = np.array(c)"
   ]
  },
  {
   "cell_type": "markdown",
   "id": "11a6b80e",
   "metadata": {},
   "source": [
    "#### #1. Find the min, max, sum, and product of c."
   ]
  },
  {
   "cell_type": "code",
   "execution_count": 41,
   "id": "e44b4290",
   "metadata": {},
   "outputs": [
    {
     "data": {
      "text/plain": [
       "1"
      ]
     },
     "execution_count": 41,
     "metadata": {},
     "output_type": "execute_result"
    }
   ],
   "source": [
    "c.min()"
   ]
  },
  {
   "cell_type": "code",
   "execution_count": 42,
   "id": "4ce82f65",
   "metadata": {},
   "outputs": [
    {
     "data": {
      "text/plain": [
       "9"
      ]
     },
     "execution_count": 42,
     "metadata": {},
     "output_type": "execute_result"
    }
   ],
   "source": [
    "c.max()"
   ]
  },
  {
   "cell_type": "code",
   "execution_count": 43,
   "id": "f1610053",
   "metadata": {},
   "outputs": [
    {
     "data": {
      "text/plain": [
       "45"
      ]
     },
     "execution_count": 43,
     "metadata": {},
     "output_type": "execute_result"
    }
   ],
   "source": [
    "c.sum()"
   ]
  },
  {
   "cell_type": "code",
   "execution_count": 44,
   "id": "2eead8c2",
   "metadata": {},
   "outputs": [
    {
     "data": {
      "text/plain": [
       "362880"
      ]
     },
     "execution_count": 44,
     "metadata": {},
     "output_type": "execute_result"
    }
   ],
   "source": [
    "np.prod(c)"
   ]
  },
  {
   "cell_type": "code",
   "execution_count": 45,
   "id": "e29272db",
   "metadata": {},
   "outputs": [
    {
     "data": {
      "text/plain": [
       "(1, 9, 45, 362880)"
      ]
     },
     "execution_count": 45,
     "metadata": {},
     "output_type": "execute_result"
    }
   ],
   "source": [
    "c.min(), c.max(), c.sum(), np.prod(c)"
   ]
  },
  {
   "cell_type": "markdown",
   "id": "ebe694cc",
   "metadata": {},
   "source": [
    "#### #2. Determine the standard deviation of c."
   ]
  },
  {
   "cell_type": "code",
   "execution_count": 46,
   "id": "270ca4fa",
   "metadata": {},
   "outputs": [
    {
     "data": {
      "text/plain": [
       "2.581988897471611"
      ]
     },
     "execution_count": 46,
     "metadata": {},
     "output_type": "execute_result"
    }
   ],
   "source": [
    "np.std(c)"
   ]
  },
  {
   "cell_type": "markdown",
   "id": "4ff71352",
   "metadata": {},
   "source": [
    "#### #3. Determine the variance of c."
   ]
  },
  {
   "cell_type": "code",
   "execution_count": 47,
   "id": "d1097b19",
   "metadata": {},
   "outputs": [
    {
     "data": {
      "text/plain": [
       "6.666666666666667"
      ]
     },
     "execution_count": 47,
     "metadata": {},
     "output_type": "execute_result"
    }
   ],
   "source": [
    "np.var(c)"
   ]
  },
  {
   "cell_type": "markdown",
   "id": "a6d2c2e6",
   "metadata": {},
   "source": [
    "#### #4. Print out the shape of the array c"
   ]
  },
  {
   "cell_type": "code",
   "execution_count": 48,
   "id": "edbb05c6",
   "metadata": {},
   "outputs": [
    {
     "name": "stdout",
     "output_type": "stream",
     "text": [
      "(3, 3)\n"
     ]
    }
   ],
   "source": [
    "print(c.shape)"
   ]
  },
  {
   "cell_type": "markdown",
   "id": "06b72c82",
   "metadata": {},
   "source": [
    "#### #5. Transpose c and print out transposed result."
   ]
  },
  {
   "cell_type": "code",
   "execution_count": 49,
   "id": "4661558f",
   "metadata": {},
   "outputs": [
    {
     "data": {
      "text/plain": [
       "array([[1, 4, 7],\n",
       "       [2, 5, 8],\n",
       "       [3, 6, 9]])"
      ]
     },
     "execution_count": 49,
     "metadata": {},
     "output_type": "execute_result"
    }
   ],
   "source": [
    "transposed_results = np.transpose(c)\n",
    "transposed_results"
   ]
  },
  {
   "cell_type": "code",
   "execution_count": 50,
   "id": "4ee83937",
   "metadata": {},
   "outputs": [
    {
     "name": "stdout",
     "output_type": "stream",
     "text": [
      "(3, 3)\n"
     ]
    }
   ],
   "source": [
    "print(transposed_results.shape)"
   ]
  },
  {
   "cell_type": "markdown",
   "id": "649c3a5b",
   "metadata": {},
   "source": [
    "#### #6. Get the dot product of the array c with c. "
   ]
  },
  {
   "cell_type": "code",
   "execution_count": 51,
   "id": "f889bd9c",
   "metadata": {},
   "outputs": [
    {
     "data": {
      "text/plain": [
       "array([[ 30,  36,  42],\n",
       "       [ 66,  81,  96],\n",
       "       [102, 126, 150]])"
      ]
     },
     "execution_count": 51,
     "metadata": {},
     "output_type": "execute_result"
    }
   ],
   "source": [
    "np.dot(c,c)"
   ]
  },
  {
   "cell_type": "markdown",
   "id": "49a92671",
   "metadata": {},
   "source": [
    "#### #7. Write the code necessary to sum up the result of c times c transposed. Answer should be 261"
   ]
  },
  {
   "cell_type": "code",
   "execution_count": 52,
   "id": "74487a1f",
   "metadata": {},
   "outputs": [
    {
     "data": {
      "text/plain": [
       "261"
      ]
     },
     "execution_count": 52,
     "metadata": {},
     "output_type": "execute_result"
    }
   ],
   "source": [
    "(c * c.transpose()).sum()"
   ]
  },
  {
   "cell_type": "markdown",
   "id": "4b2279fb",
   "metadata": {},
   "source": [
    "#### #8. Write the code necessary to determine the product of c times c transposed. Answer should be 131681894400."
   ]
  },
  {
   "cell_type": "code",
   "execution_count": 53,
   "id": "2016ea44",
   "metadata": {},
   "outputs": [
    {
     "data": {
      "text/plain": [
       "131681894400"
      ]
     },
     "execution_count": 53,
     "metadata": {},
     "output_type": "execute_result"
    }
   ],
   "source": [
    "(c * c.transpose()).prod()"
   ]
  },
  {
   "cell_type": "markdown",
   "id": "a8236680",
   "metadata": {},
   "source": [
    "<hr style=\"border:2px solid black\">"
   ]
  },
  {
   "cell_type": "markdown",
   "id": "8c433017",
   "metadata": {},
   "source": [
    "## Setup #4"
   ]
  },
  {
   "cell_type": "code",
   "execution_count": 54,
   "id": "84b8fb5d",
   "metadata": {},
   "outputs": [],
   "source": [
    "d = [\n",
    "    [90, 30, 45, 0, 120, 180],\n",
    "    [45, -90, -30, 270, 90, 0],\n",
    "    [60, 45, -45, 90, -45, 180]\n",
    "]"
   ]
  },
  {
   "cell_type": "code",
   "execution_count": 55,
   "id": "ccd8b9ad",
   "metadata": {},
   "outputs": [],
   "source": [
    "d= np.array(d)"
   ]
  },
  {
   "cell_type": "markdown",
   "id": "a28d7a4d",
   "metadata": {},
   "source": [
    "#### #1. Find the sine of all the numbers in d"
   ]
  },
  {
   "cell_type": "code",
   "execution_count": 56,
   "id": "c486b0a2",
   "metadata": {},
   "outputs": [
    {
     "data": {
      "text/plain": [
       "array([[ 0.89399666, -0.98803162,  0.85090352,  0.        ,  0.58061118,\n",
       "        -0.80115264],\n",
       "       [ 0.85090352, -0.89399666,  0.98803162, -0.17604595,  0.89399666,\n",
       "         0.        ],\n",
       "       [-0.30481062,  0.85090352, -0.85090352,  0.89399666, -0.85090352,\n",
       "        -0.80115264]])"
      ]
     },
     "execution_count": 56,
     "metadata": {},
     "output_type": "execute_result"
    }
   ],
   "source": [
    "np.sin(d)"
   ]
  },
  {
   "cell_type": "markdown",
   "id": "f5b5b411",
   "metadata": {},
   "source": [
    "#### #2. Find the cosine of all the numbers in d"
   ]
  },
  {
   "cell_type": "code",
   "execution_count": 57,
   "id": "5e6f213a",
   "metadata": {},
   "outputs": [
    {
     "data": {
      "text/plain": [
       "array([[-0.44807362,  0.15425145,  0.52532199,  1.        ,  0.81418097,\n",
       "        -0.59846007],\n",
       "       [ 0.52532199, -0.44807362,  0.15425145,  0.98438195, -0.44807362,\n",
       "         1.        ],\n",
       "       [-0.95241298,  0.52532199,  0.52532199, -0.44807362,  0.52532199,\n",
       "        -0.59846007]])"
      ]
     },
     "execution_count": 57,
     "metadata": {},
     "output_type": "execute_result"
    }
   ],
   "source": [
    "np.cos(d)"
   ]
  },
  {
   "cell_type": "markdown",
   "id": "c602f34b",
   "metadata": {},
   "source": [
    "##### #3. Find the tangent of all the numbers in d"
   ]
  },
  {
   "cell_type": "code",
   "execution_count": 58,
   "id": "ac5ca7d8",
   "metadata": {},
   "outputs": [
    {
     "data": {
      "text/plain": [
       "array([[-1.99520041, -6.4053312 ,  1.61977519,  0.        ,  0.71312301,\n",
       "         1.33869021],\n",
       "       [ 1.61977519,  1.99520041,  6.4053312 , -0.17883906, -1.99520041,\n",
       "         0.        ],\n",
       "       [ 0.32004039,  1.61977519, -1.61977519, -1.99520041, -1.61977519,\n",
       "         1.33869021]])"
      ]
     },
     "execution_count": 58,
     "metadata": {},
     "output_type": "execute_result"
    }
   ],
   "source": [
    "np.tan(d)"
   ]
  },
  {
   "cell_type": "markdown",
   "id": "d72e7e0b",
   "metadata": {},
   "source": [
    "#### #4. Find all the negative numbers in d"
   ]
  },
  {
   "cell_type": "code",
   "execution_count": 59,
   "id": "947fc5ae",
   "metadata": {},
   "outputs": [
    {
     "data": {
      "text/plain": [
       "array([-90, -30, -45, -45])"
      ]
     },
     "execution_count": 59,
     "metadata": {},
     "output_type": "execute_result"
    }
   ],
   "source": [
    "d[d<0]"
   ]
  },
  {
   "cell_type": "markdown",
   "id": "93915b2c",
   "metadata": {},
   "source": [
    "#### #5. Find all the positive numbers in d"
   ]
  },
  {
   "cell_type": "code",
   "execution_count": 60,
   "id": "ad127cdc",
   "metadata": {},
   "outputs": [
    {
     "data": {
      "text/plain": [
       "array([ 90,  30,  45, 120, 180,  45, 270,  90,  60,  45,  90, 180])"
      ]
     },
     "execution_count": 60,
     "metadata": {},
     "output_type": "execute_result"
    }
   ],
   "source": [
    "d[d>0]"
   ]
  },
  {
   "cell_type": "markdown",
   "id": "2780f71d",
   "metadata": {},
   "source": [
    "#### #6. Return an array of only the unique numbers in d."
   ]
  },
  {
   "cell_type": "code",
   "execution_count": 61,
   "id": "4c159a0b",
   "metadata": {},
   "outputs": [
    {
     "data": {
      "text/plain": [
       "array([-90, -45, -30,   0,  30,  45,  60,  90, 120, 180, 270])"
      ]
     },
     "execution_count": 61,
     "metadata": {},
     "output_type": "execute_result"
    }
   ],
   "source": [
    "np.unique(d)"
   ]
  },
  {
   "cell_type": "markdown",
   "id": "d02cba36",
   "metadata": {},
   "source": [
    "#### #7. Determine how many unique numbers there are in d."
   ]
  },
  {
   "cell_type": "code",
   "execution_count": 62,
   "id": "4becce15",
   "metadata": {},
   "outputs": [
    {
     "data": {
      "text/plain": [
       "11"
      ]
     },
     "execution_count": 62,
     "metadata": {},
     "output_type": "execute_result"
    }
   ],
   "source": [
    "np.unique(d).shape[0]"
   ]
  },
  {
   "cell_type": "markdown",
   "id": "01ef160c",
   "metadata": {},
   "source": [
    "#### #8. Print out the shape of d."
   ]
  },
  {
   "cell_type": "code",
   "execution_count": 63,
   "id": "a7deabb4",
   "metadata": {},
   "outputs": [
    {
     "name": "stdout",
     "output_type": "stream",
     "text": [
      "(3, 6)\n"
     ]
    }
   ],
   "source": [
    "print(d.shape)"
   ]
  },
  {
   "cell_type": "markdown",
   "id": "262bef76",
   "metadata": {},
   "source": [
    "#### #9. Transpose and then print out the shape of d."
   ]
  },
  {
   "cell_type": "code",
   "execution_count": 64,
   "id": "7d80f513",
   "metadata": {},
   "outputs": [
    {
     "data": {
      "text/plain": [
       "array([[ 90,  45,  60],\n",
       "       [ 30, -90,  45],\n",
       "       [ 45, -30, -45],\n",
       "       [  0, 270,  90],\n",
       "       [120,  90, -45],\n",
       "       [180,   0, 180]])"
      ]
     },
     "execution_count": 64,
     "metadata": {},
     "output_type": "execute_result"
    }
   ],
   "source": [
    "transpose_d = np.transpose(d)\n",
    "transpose_d"
   ]
  },
  {
   "cell_type": "code",
   "execution_count": 65,
   "id": "b8fb1c32",
   "metadata": {},
   "outputs": [
    {
     "name": "stdout",
     "output_type": "stream",
     "text": [
      "(6, 3)\n"
     ]
    }
   ],
   "source": [
    "print(transpose_d.shape)"
   ]
  },
  {
   "cell_type": "markdown",
   "id": "ef2ef495",
   "metadata": {},
   "source": [
    "#### #10. Reshape d into an array of 9 x 2"
   ]
  },
  {
   "cell_type": "code",
   "execution_count": 66,
   "id": "e91edfd8",
   "metadata": {},
   "outputs": [
    {
     "data": {
      "text/plain": [
       "array([[ 90,  30],\n",
       "       [ 45,   0],\n",
       "       [120, 180],\n",
       "       [ 45, -90],\n",
       "       [-30, 270],\n",
       "       [ 90,   0],\n",
       "       [ 60,  45],\n",
       "       [-45,  90],\n",
       "       [-45, 180]])"
      ]
     },
     "execution_count": 66,
     "metadata": {},
     "output_type": "execute_result"
    }
   ],
   "source": [
    "np.reshape(d, (9,2))"
   ]
  }
 ],
 "metadata": {
  "kernelspec": {
   "display_name": "Python 3 (ipykernel)",
   "language": "python",
   "name": "python3"
  },
  "language_info": {
   "codemirror_mode": {
    "name": "ipython",
    "version": 3
   },
   "file_extension": ".py",
   "mimetype": "text/x-python",
   "name": "python",
   "nbconvert_exporter": "python",
   "pygments_lexer": "ipython3",
   "version": "3.9.13"
  }
 },
 "nbformat": 4,
 "nbformat_minor": 5
}
