{
 "cells": [
  {
   "cell_type": "markdown",
   "id": "7b0aab75",
   "metadata": {},
   "source": [
    "## Exercises, Part II\n",
    "\n",
    "1. Copy the users and roles DataFrames from the examples above.\n",
    "\n",
    "2. What is the result of using a right join on the DataFrames?\n",
    "\n",
    "3. What is the result of using an outer join on the DataFrames?\n",
    "\n",
    "4. What happens if you drop the foreign keys from the DataFrames and try to merge them?\n",
    "\n",
    "5. Load the mpg dataset from PyDataset.\n",
    "\n",
    "6. Output and read the documentation for the mpg dataset.\n",
    "\n",
    "7. How many rows and columns are in the dataset?\n",
    "\n",
    "8. Check out your column names and perform any cleanup you may want on them.\n",
    "\n",
    "9. Display the summary statistics for the dataset.\n",
    "\n",
    "10. How many different manufacturers are there?\n",
    "\n",
    "11. How many different models are there?\n",
    "\n",
    "12. Create a column named mileage_difference like you did in the DataFrames exercises; this column should contain the difference between highway and city mileage for each car.\n",
    "\n",
    "13. Create a column named average_mileage like you did in the DataFrames exercises; this is the mean of the city and highway mileage.\n",
    "\n",
    "14. Create a new column on the mpg dataset named is_automatic that holds boolean values denoting whether the car has an automatic transmission.\n",
    "\n",
    "15. Using the mpg dataset, find out which which manufacturer has the best miles per gallon on average?\n",
    "\n",
    "16. Do automatic or manual cars have better miles per gallon?\n",
    "\n"
   ]
  },
  {
   "cell_type": "markdown",
   "id": "8fa881b1",
   "metadata": {},
   "source": [
    "## Exercises, Part I"
   ]
  },
  {
   "cell_type": "markdown",
   "id": "d7e6d01b",
   "metadata": {},
   "source": [
    "## Exercises, Part III"
   ]
  },
  {
   "cell_type": "code",
   "execution_count": null,
   "id": "baee5ece",
   "metadata": {},
   "outputs": [],
   "source": []
  },
  {
   "cell_type": "code",
   "execution_count": null,
   "id": "eb54d621",
   "metadata": {},
   "outputs": [],
   "source": []
  }
 ],
 "metadata": {
  "kernelspec": {
   "display_name": "Python 3",
   "language": "python",
   "name": "python3"
  },
  "language_info": {
   "codemirror_mode": {
    "name": "ipython",
    "version": 3
   },
   "file_extension": ".py",
   "mimetype": "text/x-python",
   "name": "python",
   "nbconvert_exporter": "python",
   "pygments_lexer": "ipython3",
   "version": "3.8.8"
  }
 },
 "nbformat": 4,
 "nbformat_minor": 5
}
